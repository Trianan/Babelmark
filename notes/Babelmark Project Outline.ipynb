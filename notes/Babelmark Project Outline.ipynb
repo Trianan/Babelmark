{
 "cells": [
  {
   "cell_type": "markdown",
   "id": "11ac1fa9",
   "metadata": {},
   "source": [
    "# Babelmark: one bookmark to rule them all\n",
    "\n",
    "\n",
    " ## Outline:\n",
    "     \n",
    "       This reading-management application will have a command-line interface,\n",
    "     and will store the data files it uses locally.\n",
    "     \n",
    "  ### Purpose:\n",
    "  \n",
    "      This program has three core purposes to serve for a user:\n",
    "     \n",
    "      - For books they're currently reading:\n",
    "          - Tracking what page they're on, and their overall progress in the book. \n",
    "          - Sorting and viewing their books data according to any variables.\n",
    "       \n",
    "      - For books they intend to read:\n",
    "          - Tracking the order they intend to read them in.\n",
    "          - Providing a way to easily add or remove books to their backlog.\n",
    "          - Provide a way to change the priority of any book in their backlog.\n",
    "          - Sorting and viewing backlog according to any variable.\n",
    "          - Providing a way to move a book from the backlog to the books in progress.\n",
    "         \n",
    "      - For books they have finished:\n",
    "          - Provide a timestamp for the day they finished a book.\n",
    "          - Provide a history of finished books.\n",
    "\n",
    "  ### Dependencies:\n",
    "  \n",
    "        The CSV library will be used in this program in order to efficiently read and write to the\n",
    "      csv files used to store user data.\n",
    "  \n",
    "        The Numpy and Pandas libraries will be used in this program, as the csv files correspond with\n",
    "      tabular representations of data such as Pandas DataFrames, and both libraries will facilitate\n",
    "      efficient operations with this kind of data.\n"
   ]
  },
  {
   "cell_type": "code",
   "execution_count": null,
   "id": "66b21154",
   "metadata": {},
   "outputs": [],
   "source": []
  }
 ],
 "metadata": {
  "kernelspec": {
   "display_name": "Python 3 (ipykernel)",
   "language": "python",
   "name": "python3"
  },
  "language_info": {
   "codemirror_mode": {
    "name": "ipython",
    "version": 3
   },
   "file_extension": ".py",
   "mimetype": "text/x-python",
   "name": "python",
   "nbconvert_exporter": "python",
   "pygments_lexer": "ipython3",
   "version": "3.10.9"
  }
 },
 "nbformat": 4,
 "nbformat_minor": 5
}
