{
 "cells": [
  {
   "cell_type": "markdown",
   "id": "11ac1fa9",
   "metadata": {},
   "source": [
    "# BABELMARK:\n",
    " # One bookmark to rule them all!\n",
    "\n",
    " ## Outline:\n",
    "     \n",
    "       This reading-management application will have a command-line interface,\n",
    "     and will store the data files it uses locally.\n",
    "     \n",
    "  ### Purpose:\n",
    "  \n",
    "      This program has three core purposes to serve for a user:\n",
    "     \n",
    "      - For books they're currently reading:\n",
    "          - Tracking what page they're on, and their overall progress in the book. \n",
    "          - Sorting and viewing their books data according to any variables.\n",
    "       \n",
    "      - For books they intend to read:\n",
    "          - Tracking the order they intend to read them in.\n",
    "          - Providing a way to easily add or remove books to their backlog.\n",
    "          - Provide a way to change the priority of any book in their backlog.\n",
    "          - Sorting and viewing backlog according to any variable.\n",
    "          - Providing a way to move a book from the backlog to the books in progress.\n",
    "         \n",
    "      - For books they have finished:\n",
    "          - Provide a timestamp for the day they finished a book.\n",
    "          - Provide a history of finished books.\n",
    "\n",
    "  ### Dependencies:\n",
    "  \n",
    "        The Numpy and Pandas libraries will be used in this program, as the csv files correspond with\n",
    "      tabular representations of data such as Pandas DataFrames, and both libraries will facilitate\n",
    "      efficient operations with this kind of data.\n",
    "      \n",
    "***"
   ]
  },
  {
   "cell_type": "markdown",
   "id": "c12fcb4d",
   "metadata": {},
   "source": [
    " ## To-Do\n",
    "     \n",
    "  ### Core features:\n",
    "\n",
    "      - [✓] Reading and backlog views.\n",
    "      - [✓] Adding new books to reading-log and backlog.\n",
    "      - [ ] Removing books from reading-log and backlog.\n",
    "      - [ ] Editing individual book entries in reading-log and backlog.\n",
    "      - [ ] Sorting by variables for the reading and backlog views.\n",
    "      - [ ] Refactoring (is never finished).\n",
    "     \n",
    "  ### Planned features:\n",
    "\n",
    "      - [ ] Statistics view.\n",
    "      - [ ] Category-tree view.\n",
    "      - [ ] Loading csv files aside from the default.\n",
    "      - [ ] Migrate to a compiled language to deal with Python's dependency issues.\n",
    "      - [ ] Eventually turn into a web app with AI book recommendations???\n",
    "     "
   ]
  },
  {
   "cell_type": "code",
   "execution_count": null,
   "id": "4dd8ea1d",
   "metadata": {},
   "outputs": [],
   "source": []
  }
 ],
 "metadata": {
  "kernelspec": {
   "display_name": "Python 3 (ipykernel)",
   "language": "python",
   "name": "python3"
  },
  "language_info": {
   "codemirror_mode": {
    "name": "ipython",
    "version": 3
   },
   "file_extension": ".py",
   "mimetype": "text/x-python",
   "name": "python",
   "nbconvert_exporter": "python",
   "pygments_lexer": "ipython3",
   "version": "3.10.9"
  }
 },
 "nbformat": 4,
 "nbformat_minor": 5
}
